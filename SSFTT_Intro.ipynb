{
 "cells": [
  {
   "cell_type": "code",
   "execution_count": null,
   "id": "9f0ad85a",
   "metadata": {},
   "outputs": [],
   "source": [
    "# Original code & pre-print can be found at https://github.com/zgr6010/HSI_SSFTT"
   ]
  },
  {
   "cell_type": "code",
   "execution_count": 1,
   "id": "0d038a5a",
   "metadata": {},
   "outputs": [],
   "source": [
    "import numpy as np\n",
    "import scipy.io as sio\n",
    "from sklearn.decomposition import PCA\n",
    "from sklearn.model_selection import train_test_split\n",
    "from sklearn.metrics import confusion_matrix, accuracy_score, classification_report, cohen_kappa_score\n",
    "import torch\n",
    "import torch.nn as nn\n",
    "import torch.optim as optim\n",
    "from operator import truediv\n",
    "from scr.get_cls_map import get_cls_map\n",
    "import time\n",
    "from scr.SSFTTnet import SSFTTnet\n",
    "from scr.utils import loadData, applyPCA, createImageCubes, TestDS, acc_reports "
   ]
  },
  {
   "cell_type": "code",
   "execution_count": 2,
   "id": "4175cf04",
   "metadata": {},
   "outputs": [],
   "source": [
    "def create_data_loader(config: dict):\n",
    "    \n",
    "    X, y = loadData(config['hsi_path'], config['hsi_key'], config['gt_path'], config['gt_key'])\n",
    "    \n",
    "    print(\"HSI shape\", X.shape, 'Gt shape', y.shape)\n",
    "    \n",
    "    print('\\n... ... PCA tranformation ... ...')\n",
    "    X = applyPCA(X, numComponents=config['pca_components'])\n",
    "    print('Data shape after PCA: ', X.shape)\n",
    "    \n",
    "    print('\\n... ... create data cube ... ...')\n",
    "    X, y = createImageCubes(X, y, windowSize=config['patch_size'])\n",
    "    print('Data cube X shape: ', X.shape, 'Data cube y shape: ', y.shape)\n",
    "    \n",
    "    # Changing the shape of the Xtrain, Ytrain to match the requirements of keras\n",
    "    X = X.reshape(-1, config['patch_size'], config['patch_size'], config['pca_components'], 1)\n",
    "    print('before transpose: X shape: ', X.shape)\n",
    "\n",
    "    # In order to fit the pytorch structure, the data has to be transposed\n",
    "    X = X.transpose(0, 4, 3, 1, 2)\n",
    "    print('after transpose: X shape: ', X.shape)\n",
    "    \n",
    "    X = TestDS(X, y)\n",
    "    \n",
    "    data_loader = torch.utils.data.DataLoader(dataset=X,\n",
    "                                              batch_size=config['batch_size'],\n",
    "                                              shuffle=False,\n",
    "                                              num_workers=4,\n",
    "                                              )\n",
    "    \n",
    "    return data_loader, y"
   ]
  },
  {
   "cell_type": "code",
   "execution_count": 3,
   "id": "084effd9",
   "metadata": {},
   "outputs": [],
   "source": [
    "def test(device, net, test_loader):\n",
    "    \n",
    "    count = 0\n",
    "    \n",
    "    net.eval()\n",
    "    y_pred_test = 0\n",
    "    y_test = 0\n",
    "    for inputs, labels in test_loader:\n",
    "        inputs = inputs.to(device)\n",
    "        outputs = net(inputs)\n",
    "        outputs = np.argmax(outputs.detach().cpu().numpy(), axis=1)\n",
    "        if count == 0:\n",
    "            y_pred_test = outputs\n",
    "            y_test = labels\n",
    "            count = 1\n",
    "        else:\n",
    "            y_pred_test = np.concatenate((y_pred_test, outputs))\n",
    "            y_test = np.concatenate((y_test, labels))\n",
    "\n",
    "    return y_pred_test, y_test"
   ]
  },
  {
   "cell_type": "code",
   "execution_count": 4,
   "id": "13f01a38",
   "metadata": {},
   "outputs": [
    {
     "name": "stdout",
     "output_type": "stream",
     "text": [
      "cuda\n"
     ]
    }
   ],
   "source": [
    "device = torch.device(\"cuda\" if torch.cuda.is_available() else \"cpu\")\n",
    "print(device)\n",
    "\n",
    "config = {\"hsi_path\": './data/tablet.mat',\n",
    "          \"hsi_key\": 'image',\n",
    "          \"gt_path\": './data/tablet_gt.mat',\n",
    "          \"gt_key\": 'img',\n",
    "          \"test_ratio\": 0.9,\n",
    "          \"patch_size\": 13,\n",
    "          \"pca_components\": 30,\n",
    "          \"batch_size\": 64\n",
    "         }"
   ]
  },
  {
   "cell_type": "code",
   "execution_count": 5,
   "id": "b22c237f",
   "metadata": {},
   "outputs": [
    {
     "name": "stdout",
     "output_type": "stream",
     "text": [
      "HSI shape (600, 650, 250) Gt shape (600, 650)\n",
      "\n",
      "... ... PCA tranformation ... ...\n",
      "Data shape after PCA:  (600, 650, 30)\n",
      "\n",
      "... ... create data cube ... ...\n",
      "Data cube X shape:  (389999, 13, 13, 30) Data cube y shape:  (389999,)\n",
      "before transpose: X shape:  (389999, 13, 13, 30, 1)\n",
      "after transpose: X shape:  (389999, 1, 30, 13, 13)\n"
     ]
    }
   ],
   "source": [
    "data_loader, y = create_data_loader(config)"
   ]
  },
  {
   "cell_type": "code",
   "execution_count": 6,
   "id": "bc505abb",
   "metadata": {},
   "outputs": [
    {
     "data": {
      "text/plain": [
       "<All keys matched successfully>"
      ]
     },
     "execution_count": 6,
     "metadata": {},
     "output_type": "execute_result"
    }
   ],
   "source": [
    "model = SSFTTnet().to(device)\n",
    "model.load_state_dict(torch.load(\"./checkpoints/SSFTTnet_tablet.pth\"))"
   ]
  },
  {
   "cell_type": "code",
   "execution_count": 9,
   "id": "0073c82a",
   "metadata": {},
   "outputs": [],
   "source": [
    "y_pred_test, y_test = test(device, model, data_loader)"
   ]
  },
  {
   "cell_type": "code",
   "execution_count": 18,
   "id": "1abd46b1",
   "metadata": {},
   "outputs": [
    {
     "name": "stdout",
     "output_type": "stream",
     "text": [
      "[[1. 1. 1. ... 1. 1. 1.]\n",
      " [1. 0. 1. ... 1. 1. 1.]\n",
      " [1. 1. 1. ... 1. 1. 1.]\n",
      " ...\n",
      " [1. 1. 1. ... 1. 1. 1.]\n",
      " [1. 1. 1. ... 1. 1. 1.]\n",
      " [1. 1. 1. ... 1. 1. 1.]]\n",
      "------Get classification maps successful-------\n"
     ]
    },
    {
     "data": {
      "image/png": "[encoded data removed]",
      "text/plain": [
       "<Figure size 312x288 with 1 Axes>"
      ]
     },
     "metadata": {
      "needs_background": "light"
     },
     "output_type": "display_data"
    },
    {
     "data": {
      "image/png": "[encoded data removed]",
      "text/plain": [
       "<Figure size 312x288 with 1 Axes>"
      ]
     },
     "metadata": {
      "needs_background": "light"
     },
     "output_type": "display_data"
    },
    {
     "data": {
      "image/png": "[encoded data removed]",
      "text/plain": [
       "<Figure size 312x288 with 1 Axes>"
      ]
     },
     "metadata": {
      "needs_background": "light"
     },
     "output_type": "display_data"
    },
    {
     "data": {
      "image/png": "[encoded data removed]",
      "text/plain": [
       "<Figure size 312x288 with 1 Axes>"
      ]
     },
     "metadata": {
      "needs_background": "light"
     },
     "output_type": "display_data"
    }
   ],
   "source": [
    "# Evaluation indicators\n",
    "\n",
    "gt = sio.loadmat(config[\"gt_path\"])[config[\"gt_key\"]]\n",
    "\n",
    "classification, oa, confusion, each_acc, aa, kappa = acc_reports(y_test, y_pred_test)\n",
    "classification = str(classification)\n",
    "file_name = \"./classification_report.txt\"\n",
    "\n",
    "with open(file_name, 'w') as x_file:\n",
    "    x_file.write('{} Kappa accuracy (%)'.format(kappa))\n",
    "    x_file.write('\\n')\n",
    "    x_file.write('{} Overall accuracy (%)'.format(oa))\n",
    "    x_file.write('\\n')\n",
    "    x_file.write('{} Average accuracy (%)'.format(aa))\n",
    "    x_file.write('\\n')\n",
    "    x_file.write('{} Each accuracy (%)'.format(each_acc))\n",
    "    x_file.write('\\n')\n",
    "    x_file.write('{}'.format(classification))\n",
    "    x_file.write('\\n')\n",
    "    x_file.write('{}'.format(confusion))\n",
    "\n",
    "get_cls_map(model, device, data_loader, gt, './')"
   ]
  },
  {
   "cell_type": "code",
   "execution_count": 16,
   "id": "0257aac3",
   "metadata": {},
   "outputs": [
    {
     "data": {
      "text/plain": [
       "(389999,)"
      ]
     },
     "execution_count": 16,
     "metadata": {},
     "output_type": "execute_result"
    }
   ],
   "source": []
  },
  {
   "cell_type": "code",
   "execution_count": null,
   "id": "7c38b524",
   "metadata": {},
   "outputs": [],
   "source": []
  },
  {
   "cell_type": "code",
   "execution_count": null,
   "id": "47090f08",
   "metadata": {},
   "outputs": [],
   "source": []
  },
  {
   "cell_type": "code",
   "execution_count": null,
   "id": "0d326f39",
   "metadata": {},
   "outputs": [],
   "source": []
  },
  {
   "cell_type": "code",
   "execution_count": null,
   "id": "4e1f0e30",
   "metadata": {},
   "outputs": [],
   "source": []
  },
  {
   "cell_type": "code",
   "execution_count": null,
   "id": "4ad4a9b5",
   "metadata": {},
   "outputs": [],
   "source": []
  },
  {
   "cell_type": "code",
   "execution_count": null,
   "id": "86a9c7d1",
   "metadata": {},
   "outputs": [],
   "source": []
  },
  {
   "cell_type": "code",
   "execution_count": null,
   "id": "debac68f",
   "metadata": {},
   "outputs": [],
   "source": []
  },
  {
   "cell_type": "code",
   "execution_count": null,
   "id": "75160d69",
   "metadata": {},
   "outputs": [],
   "source": []
  },
  {
   "cell_type": "code",
   "execution_count": null,
   "id": "89802484",
   "metadata": {},
   "outputs": [],
   "source": []
  },
  {
   "cell_type": "code",
   "execution_count": null,
   "id": "085ee246",
   "metadata": {},
   "outputs": [],
   "source": []
  },
  {
   "cell_type": "code",
   "execution_count": null,
   "id": "d93eb2a5",
   "metadata": {},
   "outputs": [],
   "source": []
  },
  {
   "cell_type": "code",
   "execution_count": null,
   "id": "c49774ab",
   "metadata": {},
   "outputs": [],
   "source": []
  },
  {
   "cell_type": "code",
   "execution_count": null,
   "id": "0dd6d572",
   "metadata": {},
   "outputs": [],
   "source": []
  },
  {
   "cell_type": "code",
   "execution_count": null,
   "id": "5ee002ac",
   "metadata": {},
   "outputs": [],
   "source": []
  },
  {
   "cell_type": "code",
   "execution_count": null,
   "id": "83344791",
   "metadata": {},
   "outputs": [],
   "source": []
  },
  {
   "cell_type": "code",
   "execution_count": null,
   "id": "10d63176",
   "metadata": {},
   "outputs": [],
   "source": []
  },
  {
   "cell_type": "code",
   "execution_count": null,
   "id": "0f774ed6",
   "metadata": {},
   "outputs": [],
   "source": []
  },
  {
   "cell_type": "code",
   "execution_count": null,
   "id": "6883c43f",
   "metadata": {},
   "outputs": [],
   "source": []
  },
  {
   "cell_type": "code",
   "execution_count": null,
   "id": "ef4c53bf",
   "metadata": {},
   "outputs": [],
   "source": []
  },
  {
   "cell_type": "code",
   "execution_count": null,
   "id": "ae6ff44b",
   "metadata": {},
   "outputs": [],
   "source": []
  }
 ],
 "metadata": {
  "kernelspec": {
   "display_name": "Python 3 (ipykernel)",
   "language": "python",
   "name": "python3"
  },
  "language_info": {
   "codemirror_mode": {
    "name": "ipython",
    "version": 3
   },
   "file_extension": ".py",
   "mimetype": "text/x-python",
   "name": "python",
   "nbconvert_exporter": "python",
   "pygments_lexer": "ipython3",
   "version": "3.9.6"
  }
 },
 "nbformat": 4,
 "nbformat_minor": 5
}
